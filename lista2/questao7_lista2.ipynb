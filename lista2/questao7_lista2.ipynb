{
  "nbformat": 4,
  "nbformat_minor": 0,
  "metadata": {
    "colab": {
      "name": "questao7-lista2.ipynb",
      "provenance": [],
      "collapsed_sections": []
    },
    "kernelspec": {
      "name": "python3",
      "display_name": "Python 3"
    },
    "language_info": {
      "name": "python"
    }
  },
  "cells": [
    {
      "cell_type": "code",
      "metadata": {
        "colab": {
          "base_uri": "https://localhost:8080/",
          "height": 331
        },
        "id": "Zqm3c9qx6F2O",
        "outputId": "ce5836d2-6c55-4e11-85c3-a4f5ce133f30"
      },
      "source": [
        "import pandas as pd\n",
        "from sklearn.feature_extraction.text import CountVectorizer\n",
        "from nltk.tokenize import word_tokenize\n",
        "\n",
        "import nltk\n",
        "nltk.download('punkt')\n",
        "\n",
        "columns = ['texto', 'classe']\n",
        "\n",
        "rows = [['They are novels', 'stmt'],\n",
        "        ['have you read this book', 'question'],\n",
        "        ['who is the author', 'question'],\n",
        "        ['what are the characters', 'question'],\n",
        "        ['This is how I bought the book', 'stmt'],\n",
        "        ['I like fictions', 'stmt'],\n",
        "        ['what is your favorite book', 'question'],\n",
        "        ['This is my book', 'stmt']\n",
        "]\n",
        "\n",
        "training_data = pd.DataFrame(rows, columns=columns)\n",
        "training_data"
      ],
      "execution_count": null,
      "outputs": [
        {
          "output_type": "stream",
          "text": [
            "[nltk_data] Downloading package punkt to /root/nltk_data...\n",
            "[nltk_data]   Unzipping tokenizers/punkt.zip.\n"
          ],
          "name": "stdout"
        },
        {
          "output_type": "execute_result",
          "data": {
            "text/html": [
              "<div>\n",
              "<style scoped>\n",
              "    .dataframe tbody tr th:only-of-type {\n",
              "        vertical-align: middle;\n",
              "    }\n",
              "\n",
              "    .dataframe tbody tr th {\n",
              "        vertical-align: top;\n",
              "    }\n",
              "\n",
              "    .dataframe thead th {\n",
              "        text-align: right;\n",
              "    }\n",
              "</style>\n",
              "<table border=\"1\" class=\"dataframe\">\n",
              "  <thead>\n",
              "    <tr style=\"text-align: right;\">\n",
              "      <th></th>\n",
              "      <th>texto</th>\n",
              "      <th>classe</th>\n",
              "    </tr>\n",
              "  </thead>\n",
              "  <tbody>\n",
              "    <tr>\n",
              "      <th>0</th>\n",
              "      <td>They are novels</td>\n",
              "      <td>stmt</td>\n",
              "    </tr>\n",
              "    <tr>\n",
              "      <th>1</th>\n",
              "      <td>have you read this book</td>\n",
              "      <td>question</td>\n",
              "    </tr>\n",
              "    <tr>\n",
              "      <th>2</th>\n",
              "      <td>who is the author</td>\n",
              "      <td>question</td>\n",
              "    </tr>\n",
              "    <tr>\n",
              "      <th>3</th>\n",
              "      <td>what are the characters</td>\n",
              "      <td>question</td>\n",
              "    </tr>\n",
              "    <tr>\n",
              "      <th>4</th>\n",
              "      <td>This is how I bought the book</td>\n",
              "      <td>stmt</td>\n",
              "    </tr>\n",
              "    <tr>\n",
              "      <th>5</th>\n",
              "      <td>I like fictions</td>\n",
              "      <td>stmt</td>\n",
              "    </tr>\n",
              "    <tr>\n",
              "      <th>6</th>\n",
              "      <td>what is your favorite book</td>\n",
              "      <td>question</td>\n",
              "    </tr>\n",
              "    <tr>\n",
              "      <th>7</th>\n",
              "      <td>This is my book</td>\n",
              "      <td>stmt</td>\n",
              "    </tr>\n",
              "  </tbody>\n",
              "</table>\n",
              "</div>"
            ],
            "text/plain": [
              "                           texto    classe\n",
              "0                They are novels      stmt\n",
              "1        have you read this book  question\n",
              "2              who is the author  question\n",
              "3        what are the characters  question\n",
              "4  This is how I bought the book      stmt\n",
              "5                I like fictions      stmt\n",
              "6     what is your favorite book  question\n",
              "7                This is my book      stmt"
            ]
          },
          "metadata": {
            "tags": []
          },
          "execution_count": 32
        }
      ]
    },
    {
      "cell_type": "markdown",
      "metadata": {
        "id": "tJakS1b4c5c1"
      },
      "source": [
        "# Quantidade de vezes que uma palavra aparece em uma frase com classe stmt"
      ]
    },
    {
      "cell_type": "code",
      "metadata": {
        "colab": {
          "base_uri": "https://localhost:8080/",
          "height": 173
        },
        "id": "KDcpY8Jfbavt",
        "outputId": "fcc41908-44b6-48d4-e8c2-7dfead89b5c6"
      },
      "source": [
        "stmt_docs = [row['texto'] for index,row in training_data.iterrows() if row['classe'] == 'stmt']\n",
        "vec_s = CountVectorizer()\n",
        "X_s = vec_s.fit_transform(stmt_docs)\n",
        "tdm_s = pd.DataFrame(X_s.toarray(), columns=vec_s.get_feature_names())\n",
        "\n",
        "tdm_s"
      ],
      "execution_count": null,
      "outputs": [
        {
          "output_type": "execute_result",
          "data": {
            "text/html": [
              "<div>\n",
              "<style scoped>\n",
              "    .dataframe tbody tr th:only-of-type {\n",
              "        vertical-align: middle;\n",
              "    }\n",
              "\n",
              "    .dataframe tbody tr th {\n",
              "        vertical-align: top;\n",
              "    }\n",
              "\n",
              "    .dataframe thead th {\n",
              "        text-align: right;\n",
              "    }\n",
              "</style>\n",
              "<table border=\"1\" class=\"dataframe\">\n",
              "  <thead>\n",
              "    <tr style=\"text-align: right;\">\n",
              "      <th></th>\n",
              "      <th>are</th>\n",
              "      <th>book</th>\n",
              "      <th>bought</th>\n",
              "      <th>fictions</th>\n",
              "      <th>how</th>\n",
              "      <th>is</th>\n",
              "      <th>like</th>\n",
              "      <th>my</th>\n",
              "      <th>novels</th>\n",
              "      <th>the</th>\n",
              "      <th>they</th>\n",
              "      <th>this</th>\n",
              "    </tr>\n",
              "  </thead>\n",
              "  <tbody>\n",
              "    <tr>\n",
              "      <th>0</th>\n",
              "      <td>1</td>\n",
              "      <td>0</td>\n",
              "      <td>0</td>\n",
              "      <td>0</td>\n",
              "      <td>0</td>\n",
              "      <td>0</td>\n",
              "      <td>0</td>\n",
              "      <td>0</td>\n",
              "      <td>1</td>\n",
              "      <td>0</td>\n",
              "      <td>1</td>\n",
              "      <td>0</td>\n",
              "    </tr>\n",
              "    <tr>\n",
              "      <th>1</th>\n",
              "      <td>0</td>\n",
              "      <td>1</td>\n",
              "      <td>1</td>\n",
              "      <td>0</td>\n",
              "      <td>1</td>\n",
              "      <td>1</td>\n",
              "      <td>0</td>\n",
              "      <td>0</td>\n",
              "      <td>0</td>\n",
              "      <td>1</td>\n",
              "      <td>0</td>\n",
              "      <td>1</td>\n",
              "    </tr>\n",
              "    <tr>\n",
              "      <th>2</th>\n",
              "      <td>0</td>\n",
              "      <td>0</td>\n",
              "      <td>0</td>\n",
              "      <td>1</td>\n",
              "      <td>0</td>\n",
              "      <td>0</td>\n",
              "      <td>1</td>\n",
              "      <td>0</td>\n",
              "      <td>0</td>\n",
              "      <td>0</td>\n",
              "      <td>0</td>\n",
              "      <td>0</td>\n",
              "    </tr>\n",
              "    <tr>\n",
              "      <th>3</th>\n",
              "      <td>0</td>\n",
              "      <td>1</td>\n",
              "      <td>0</td>\n",
              "      <td>0</td>\n",
              "      <td>0</td>\n",
              "      <td>1</td>\n",
              "      <td>0</td>\n",
              "      <td>1</td>\n",
              "      <td>0</td>\n",
              "      <td>0</td>\n",
              "      <td>0</td>\n",
              "      <td>1</td>\n",
              "    </tr>\n",
              "  </tbody>\n",
              "</table>\n",
              "</div>"
            ],
            "text/plain": [
              "   are  book  bought  fictions  how  is  like  my  novels  the  they  this\n",
              "0    1     0       0         0    0   0     0   0       1    0     1     0\n",
              "1    0     1       1         0    1   1     0   0       0    1     0     1\n",
              "2    0     0       0         1    0   0     1   0       0    0     0     0\n",
              "3    0     1       0         0    0   1     0   1       0    0     0     1"
            ]
          },
          "metadata": {
            "tags": []
          },
          "execution_count": 22
        }
      ]
    },
    {
      "cell_type": "markdown",
      "metadata": {
        "id": "RMAUU_4rdCBY"
      },
      "source": [
        "# Quantidade de vezes que uma palavra aparece em uma frase com classe question"
      ]
    },
    {
      "cell_type": "code",
      "metadata": {
        "colab": {
          "base_uri": "https://localhost:8080/",
          "height": 173
        },
        "id": "hhWC5ct-c33r",
        "outputId": "e648d6f8-6d9e-4233-cdf8-0a8a89ed7383"
      },
      "source": [
        "q_docs = [row['texto'] for index,row in training_data.iterrows() if row['classe'] == 'question']\n",
        "\n",
        "vec_q = CountVectorizer()\n",
        "X_q = vec_q.fit_transform(q_docs)\n",
        "tdm_q = pd.DataFrame(X_q.toarray(), columns=vec_q.get_feature_names())\n",
        "\n",
        "tdm_q"
      ],
      "execution_count": null,
      "outputs": [
        {
          "output_type": "execute_result",
          "data": {
            "text/html": [
              "<div>\n",
              "<style scoped>\n",
              "    .dataframe tbody tr th:only-of-type {\n",
              "        vertical-align: middle;\n",
              "    }\n",
              "\n",
              "    .dataframe tbody tr th {\n",
              "        vertical-align: top;\n",
              "    }\n",
              "\n",
              "    .dataframe thead th {\n",
              "        text-align: right;\n",
              "    }\n",
              "</style>\n",
              "<table border=\"1\" class=\"dataframe\">\n",
              "  <thead>\n",
              "    <tr style=\"text-align: right;\">\n",
              "      <th></th>\n",
              "      <th>are</th>\n",
              "      <th>author</th>\n",
              "      <th>book</th>\n",
              "      <th>characters</th>\n",
              "      <th>favorite</th>\n",
              "      <th>have</th>\n",
              "      <th>is</th>\n",
              "      <th>read</th>\n",
              "      <th>the</th>\n",
              "      <th>this</th>\n",
              "      <th>what</th>\n",
              "      <th>who</th>\n",
              "      <th>you</th>\n",
              "      <th>your</th>\n",
              "    </tr>\n",
              "  </thead>\n",
              "  <tbody>\n",
              "    <tr>\n",
              "      <th>0</th>\n",
              "      <td>0</td>\n",
              "      <td>0</td>\n",
              "      <td>1</td>\n",
              "      <td>0</td>\n",
              "      <td>0</td>\n",
              "      <td>1</td>\n",
              "      <td>0</td>\n",
              "      <td>1</td>\n",
              "      <td>0</td>\n",
              "      <td>1</td>\n",
              "      <td>0</td>\n",
              "      <td>0</td>\n",
              "      <td>1</td>\n",
              "      <td>0</td>\n",
              "    </tr>\n",
              "    <tr>\n",
              "      <th>1</th>\n",
              "      <td>0</td>\n",
              "      <td>1</td>\n",
              "      <td>0</td>\n",
              "      <td>0</td>\n",
              "      <td>0</td>\n",
              "      <td>0</td>\n",
              "      <td>1</td>\n",
              "      <td>0</td>\n",
              "      <td>1</td>\n",
              "      <td>0</td>\n",
              "      <td>0</td>\n",
              "      <td>1</td>\n",
              "      <td>0</td>\n",
              "      <td>0</td>\n",
              "    </tr>\n",
              "    <tr>\n",
              "      <th>2</th>\n",
              "      <td>1</td>\n",
              "      <td>0</td>\n",
              "      <td>0</td>\n",
              "      <td>1</td>\n",
              "      <td>0</td>\n",
              "      <td>0</td>\n",
              "      <td>0</td>\n",
              "      <td>0</td>\n",
              "      <td>1</td>\n",
              "      <td>0</td>\n",
              "      <td>1</td>\n",
              "      <td>0</td>\n",
              "      <td>0</td>\n",
              "      <td>0</td>\n",
              "    </tr>\n",
              "    <tr>\n",
              "      <th>3</th>\n",
              "      <td>0</td>\n",
              "      <td>0</td>\n",
              "      <td>1</td>\n",
              "      <td>0</td>\n",
              "      <td>1</td>\n",
              "      <td>0</td>\n",
              "      <td>1</td>\n",
              "      <td>0</td>\n",
              "      <td>0</td>\n",
              "      <td>0</td>\n",
              "      <td>1</td>\n",
              "      <td>0</td>\n",
              "      <td>0</td>\n",
              "      <td>1</td>\n",
              "    </tr>\n",
              "  </tbody>\n",
              "</table>\n",
              "</div>"
            ],
            "text/plain": [
              "   are  author  book  characters  favorite  ...  this  what  who  you  your\n",
              "0    0       0     1           0         0  ...     1     0    0    1     0\n",
              "1    0       1     0           0         0  ...     0     0    1    0     0\n",
              "2    1       0     0           1         0  ...     0     1    0    0     0\n",
              "3    0       0     1           0         1  ...     0     1    0    0     1\n",
              "\n",
              "[4 rows x 14 columns]"
            ]
          },
          "metadata": {
            "tags": []
          },
          "execution_count": 23
        }
      ]
    },
    {
      "cell_type": "markdown",
      "metadata": {
        "id": "Y9y_b6rqdWHf"
      },
      "source": [
        "# Frequência de cada palavra na classe stmt"
      ]
    },
    {
      "cell_type": "code",
      "metadata": {
        "colab": {
          "base_uri": "https://localhost:8080/"
        },
        "id": "EzxUFMfbdKCz",
        "outputId": "047be202-af72-4b4e-c233-d79a3aa6ee17"
      },
      "source": [
        "word_list_s = vec_s.get_feature_names();    \n",
        "count_list_s = X_s.toarray().sum(axis=0) \n",
        "freq_s = dict(zip(word_list_s,count_list_s))\n",
        "freq_s"
      ],
      "execution_count": null,
      "outputs": [
        {
          "output_type": "execute_result",
          "data": {
            "text/plain": [
              "{'are': 1,\n",
              " 'book': 2,\n",
              " 'bought': 1,\n",
              " 'fictions': 1,\n",
              " 'how': 1,\n",
              " 'is': 2,\n",
              " 'like': 1,\n",
              " 'my': 1,\n",
              " 'novels': 1,\n",
              " 'the': 1,\n",
              " 'they': 1,\n",
              " 'this': 2}"
            ]
          },
          "metadata": {
            "tags": []
          },
          "execution_count": 24
        }
      ]
    },
    {
      "cell_type": "markdown",
      "metadata": {
        "id": "nfxKV1padetx"
      },
      "source": [
        "# Frequência de cada palavra na classe question"
      ]
    },
    {
      "cell_type": "code",
      "metadata": {
        "colab": {
          "base_uri": "https://localhost:8080/"
        },
        "id": "rrIMOKdudjT4",
        "outputId": "c16d23cf-12c9-42f0-d1bb-09b27da58197"
      },
      "source": [
        "word_list_q = vec_q.get_feature_names();    \n",
        "count_list_q = X_q.toarray().sum(axis=0) \n",
        "freq_q = dict(zip(word_list_q,count_list_q))\n",
        "freq_q"
      ],
      "execution_count": null,
      "outputs": [
        {
          "output_type": "execute_result",
          "data": {
            "text/plain": [
              "{'are': 1,\n",
              " 'author': 1,\n",
              " 'book': 2,\n",
              " 'characters': 1,\n",
              " 'favorite': 1,\n",
              " 'have': 1,\n",
              " 'is': 2,\n",
              " 'read': 1,\n",
              " 'the': 2,\n",
              " 'this': 1,\n",
              " 'what': 2,\n",
              " 'who': 1,\n",
              " 'you': 1,\n",
              " 'your': 1}"
            ]
          },
          "metadata": {
            "tags": []
          },
          "execution_count": 25
        }
      ]
    },
    {
      "cell_type": "markdown",
      "metadata": {
        "id": "dvLdzAwHdu25"
      },
      "source": [
        "# Probabilidade das palavras na classe stmt"
      ]
    },
    {
      "cell_type": "code",
      "metadata": {
        "colab": {
          "base_uri": "https://localhost:8080/"
        },
        "id": "DaSEHYaqdzTz",
        "outputId": "1c789f2b-57c3-4e70-9e54-7c84b3ca6543"
      },
      "source": [
        "prob_s = []\n",
        "\n",
        "for word, count in zip(word_list_s, count_list_s):\n",
        "  prob_s.append(count/len(word_list_s))\n",
        "dict(zip(word_list_s, prob_s))"
      ],
      "execution_count": null,
      "outputs": [
        {
          "output_type": "execute_result",
          "data": {
            "text/plain": [
              "{'are': 0.08333333333333333,\n",
              " 'book': 0.16666666666666666,\n",
              " 'bought': 0.08333333333333333,\n",
              " 'fictions': 0.08333333333333333,\n",
              " 'how': 0.08333333333333333,\n",
              " 'is': 0.16666666666666666,\n",
              " 'like': 0.08333333333333333,\n",
              " 'my': 0.08333333333333333,\n",
              " 'novels': 0.08333333333333333,\n",
              " 'the': 0.08333333333333333,\n",
              " 'they': 0.08333333333333333,\n",
              " 'this': 0.16666666666666666}"
            ]
          },
          "metadata": {
            "tags": []
          },
          "execution_count": 26
        }
      ]
    },
    {
      "cell_type": "markdown",
      "metadata": {
        "id": "eoOvCnmDeJYn"
      },
      "source": [
        "# Probabilidade das palavras na classe question\n",
        "\n"
      ]
    },
    {
      "cell_type": "code",
      "metadata": {
        "colab": {
          "base_uri": "https://localhost:8080/"
        },
        "id": "7OyS_2_HeMpp",
        "outputId": "fb15dfe2-c952-4b63-b2e9-c9f257fbe86e"
      },
      "source": [
        "prob_q = []\n",
        "\n",
        "for count in count_list_q:\n",
        "  prob_q.append(count/len(word_list_q))\n",
        "dict(zip(word_list_q, prob_q))"
      ],
      "execution_count": null,
      "outputs": [
        {
          "output_type": "execute_result",
          "data": {
            "text/plain": [
              "{'are': 0.07142857142857142,\n",
              " 'author': 0.07142857142857142,\n",
              " 'book': 0.14285714285714285,\n",
              " 'characters': 0.07142857142857142,\n",
              " 'favorite': 0.07142857142857142,\n",
              " 'have': 0.07142857142857142,\n",
              " 'is': 0.14285714285714285,\n",
              " 'read': 0.07142857142857142,\n",
              " 'the': 0.14285714285714285,\n",
              " 'this': 0.07142857142857142,\n",
              " 'what': 0.14285714285714285,\n",
              " 'who': 0.07142857142857142,\n",
              " 'you': 0.07142857142857142,\n",
              " 'your': 0.07142857142857142}"
            ]
          },
          "metadata": {
            "tags": []
          },
          "execution_count": 27
        }
      ]
    },
    {
      "cell_type": "code",
      "metadata": {
        "colab": {
          "base_uri": "https://localhost:8080/"
        },
        "id": "DmRxS8pae2j3",
        "outputId": "c89dc282-2b8e-4c75-d6a1-84ad75eefc2f"
      },
      "source": [
        "\n",
        "docs = [row['texto'] for index,row in training_data.iterrows()]\n",
        "\n",
        "vec = CountVectorizer()\n",
        "X = vec.fit_transform(docs)\n",
        "\n",
        "total_features = len(vec.get_feature_names())\n",
        "total_features"
      ],
      "execution_count": null,
      "outputs": [
        {
          "output_type": "execute_result",
          "data": {
            "text/plain": [
              "21"
            ]
          },
          "metadata": {
            "tags": []
          },
          "execution_count": 28
        }
      ]
    },
    {
      "cell_type": "code",
      "metadata": {
        "colab": {
          "base_uri": "https://localhost:8080/"
        },
        "id": "Yl7Yhkx-fBYB",
        "outputId": "03ffe446-9aeb-424e-e296-d15db5f343a8"
      },
      "source": [
        "total_cnts_features_s = count_list_s.sum(axis=0)\n",
        "total_cnts_features_q = count_list_q.sum(axis=0)\n",
        "\n",
        "print(total_cnts_features_s, total_cnts_features_q)"
      ],
      "execution_count": null,
      "outputs": [
        {
          "output_type": "stream",
          "text": [
            "15 18\n"
          ],
          "name": "stdout"
        }
      ]
    },
    {
      "cell_type": "code",
      "metadata": {
        "id": "bZTOAkRmfnWq"
      },
      "source": [
        "new_sentence = 'what do you mean'\n",
        "new_word_list = word_tokenize(new_sentence)"
      ],
      "execution_count": null,
      "outputs": []
    },
    {
      "cell_type": "markdown",
      "metadata": {
        "id": "_aty4VaJfyfH"
      },
      "source": [
        "# Calculo das probablidades para cada palavra na classe stmt"
      ]
    },
    {
      "cell_type": "code",
      "metadata": {
        "colab": {
          "base_uri": "https://localhost:8080/"
        },
        "id": "hU4p1HVWf5og",
        "outputId": "8bc8160d-d5fb-41ba-e70a-ae0c9d319d18"
      },
      "source": [
        "prob_s_with_ls = []\n",
        "for word in new_word_list:\n",
        "    if word in freq_s.keys():\n",
        "        count = freq_s[word]\n",
        "    else:\n",
        "        count = 0\n",
        "    prob_s_with_ls.append((count + 1)/(total_cnts_features_s + total_features))\n",
        "final_prob_stmt = dict(zip(new_word_list,prob_s_with_ls))\n",
        "final_prob_stmt"
      ],
      "execution_count": null,
      "outputs": [
        {
          "output_type": "execute_result",
          "data": {
            "text/plain": [
              "{'do': 0.027777777777777776,\n",
              " 'mean': 0.027777777777777776,\n",
              " 'what': 0.027777777777777776,\n",
              " 'you': 0.027777777777777776}"
            ]
          },
          "metadata": {
            "tags": []
          },
          "execution_count": 40
        }
      ]
    },
    {
      "cell_type": "markdown",
      "metadata": {
        "id": "PqcjiODtgoN1"
      },
      "source": [
        "# Calculo das probablidades para cada palavra na classe question"
      ]
    },
    {
      "cell_type": "code",
      "metadata": {
        "colab": {
          "base_uri": "https://localhost:8080/"
        },
        "id": "7F_VIa84gr02",
        "outputId": "e93fe06a-5eba-4c15-dbdd-3318c473adb9"
      },
      "source": [
        "prob_q_with_ls = []\n",
        "for word in new_word_list:\n",
        "    if word in freq_q.keys():\n",
        "        count = freq_q[word]\n",
        "    else:\n",
        "        count = 0\n",
        "    prob_q_with_ls.append((count + 1)/(total_cnts_features_q + total_features))\n",
        "final_prob_question = dict(zip(new_word_list,prob_q_with_ls))\n",
        "\n",
        "final_prob_question"
      ],
      "execution_count": null,
      "outputs": [
        {
          "output_type": "execute_result",
          "data": {
            "text/plain": [
              "{'do': 0.02564102564102564,\n",
              " 'mean': 0.02564102564102564,\n",
              " 'what': 0.07692307692307693,\n",
              " 'you': 0.05128205128205128}"
            ]
          },
          "metadata": {
            "tags": []
          },
          "execution_count": 41
        }
      ]
    },
    {
      "cell_type": "markdown",
      "metadata": {
        "id": "_XWZNvDPhEI_"
      },
      "source": [
        "# Verificando a classe da nova frase"
      ]
    },
    {
      "cell_type": "code",
      "metadata": {
        "colab": {
          "base_uri": "https://localhost:8080/"
        },
        "id": "LfNUZDRkhHYA",
        "outputId": "45c3ebc0-6934-4a84-ecdf-dbee60e30bec"
      },
      "source": [
        "total_prob_question = 0\n",
        "total_prob_stmt = 0\n",
        "\n",
        "for key in final_prob_question:\n",
        "  total_prob_question += final_prob_question[key]\n",
        "\n",
        "for key in final_prob_stmt:\n",
        "  total_prob_stmt += final_prob_stmt[key]\n",
        "\n",
        "if (total_prob_question > total_prob_stmt):\n",
        "  print('A classe da frase é Question')\n",
        "else:\n",
        "  print('A classe da frase é Stmt')\n",
        "  "
      ],
      "execution_count": null,
      "outputs": [
        {
          "output_type": "stream",
          "text": [
            "A classe da frase é Question\n"
          ],
          "name": "stdout"
        }
      ]
    }
  ]
}