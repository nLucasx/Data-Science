{
  "nbformat": 4,
  "nbformat_minor": 0,
  "metadata": {
    "colab": {
      "name": "Questao10.ipynb",
      "provenance": []
    },
    "kernelspec": {
      "name": "python3",
      "display_name": "Python 3",
      "language": "python"
    },
    "language_info": {
      "name": "python",
      "version": "3.9.1-final"
    }
  },
  "cells": [
    {
      "cell_type": "code",
      "metadata": {
        "colab": {
          "base_uri": "https://localhost:8080/",
          "height": 419
        },
        "id": "XfoeY5mGdhBi",
        "outputId": "0977f134-1b48-4ed0-a1f2-563f1c2cb171"
      },
      "source": [
        "import pandas as pd\n",
        "from sklearn.model_selection import cross_val_score\n",
        "from sklearn.neighbors import KNeighborsClassifier\n",
        "from sklearn.model_selection import train_test_split\n",
        "from sklearn.preprocessing import StandardScaler\n",
        "from sklearn.metrics import classification_report, confusion_matrix\n",
        "import numpy as np\n",
        "\n",
        "iris = pd.read_csv('iris.data', names=['sepal-length', 'sepal-width', 'petal-length', 'petal-width', 'class'])\n",
        "\n",
        "X = iris.iloc[:, :4]\n",
        "y = iris.iloc[:, 4]\n",
        "\n",
        "\n",
        "iris\n"
      ],
      "execution_count": 3,
      "outputs": [
        {
          "output_type": "execute_result",
          "data": {
            "text/plain": [
              "     sepal-length  sepal-width  petal-length  petal-width           class\n",
              "0             5.1          3.5           1.4          0.2     Iris-setosa\n",
              "1             4.9          3.0           1.4          0.2     Iris-setosa\n",
              "2             4.7          3.2           1.3          0.2     Iris-setosa\n",
              "3             4.6          3.1           1.5          0.2     Iris-setosa\n",
              "4             5.0          3.6           1.4          0.2     Iris-setosa\n",
              "..            ...          ...           ...          ...             ...\n",
              "145           6.7          3.0           5.2          2.3  Iris-virginica\n",
              "146           6.3          2.5           5.0          1.9  Iris-virginica\n",
              "147           6.5          3.0           5.2          2.0  Iris-virginica\n",
              "148           6.2          3.4           5.4          2.3  Iris-virginica\n",
              "149           5.9          3.0           5.1          1.8  Iris-virginica\n",
              "\n",
              "[150 rows x 5 columns]"
            ],
            "text/html": "<div>\n<style scoped>\n    .dataframe tbody tr th:only-of-type {\n        vertical-align: middle;\n    }\n\n    .dataframe tbody tr th {\n        vertical-align: top;\n    }\n\n    .dataframe thead th {\n        text-align: right;\n    }\n</style>\n<table border=\"1\" class=\"dataframe\">\n  <thead>\n    <tr style=\"text-align: right;\">\n      <th></th>\n      <th>sepal-length</th>\n      <th>sepal-width</th>\n      <th>petal-length</th>\n      <th>petal-width</th>\n      <th>class</th>\n    </tr>\n  </thead>\n  <tbody>\n    <tr>\n      <th>0</th>\n      <td>5.1</td>\n      <td>3.5</td>\n      <td>1.4</td>\n      <td>0.2</td>\n      <td>Iris-setosa</td>\n    </tr>\n    <tr>\n      <th>1</th>\n      <td>4.9</td>\n      <td>3.0</td>\n      <td>1.4</td>\n      <td>0.2</td>\n      <td>Iris-setosa</td>\n    </tr>\n    <tr>\n      <th>2</th>\n      <td>4.7</td>\n      <td>3.2</td>\n      <td>1.3</td>\n      <td>0.2</td>\n      <td>Iris-setosa</td>\n    </tr>\n    <tr>\n      <th>3</th>\n      <td>4.6</td>\n      <td>3.1</td>\n      <td>1.5</td>\n      <td>0.2</td>\n      <td>Iris-setosa</td>\n    </tr>\n    <tr>\n      <th>4</th>\n      <td>5.0</td>\n      <td>3.6</td>\n      <td>1.4</td>\n      <td>0.2</td>\n      <td>Iris-setosa</td>\n    </tr>\n    <tr>\n      <th>...</th>\n      <td>...</td>\n      <td>...</td>\n      <td>...</td>\n      <td>...</td>\n      <td>...</td>\n    </tr>\n    <tr>\n      <th>145</th>\n      <td>6.7</td>\n      <td>3.0</td>\n      <td>5.2</td>\n      <td>2.3</td>\n      <td>Iris-virginica</td>\n    </tr>\n    <tr>\n      <th>146</th>\n      <td>6.3</td>\n      <td>2.5</td>\n      <td>5.0</td>\n      <td>1.9</td>\n      <td>Iris-virginica</td>\n    </tr>\n    <tr>\n      <th>147</th>\n      <td>6.5</td>\n      <td>3.0</td>\n      <td>5.2</td>\n      <td>2.0</td>\n      <td>Iris-virginica</td>\n    </tr>\n    <tr>\n      <th>148</th>\n      <td>6.2</td>\n      <td>3.4</td>\n      <td>5.4</td>\n      <td>2.3</td>\n      <td>Iris-virginica</td>\n    </tr>\n    <tr>\n      <th>149</th>\n      <td>5.9</td>\n      <td>3.0</td>\n      <td>5.1</td>\n      <td>1.8</td>\n      <td>Iris-virginica</td>\n    </tr>\n  </tbody>\n</table>\n<p>150 rows × 5 columns</p>\n</div>"
          },
          "metadata": {},
          "execution_count": 3
        }
      ]
    },
    {
      "cell_type": "markdown",
      "metadata": {
        "id": "QI3hipLPkrng"
      },
      "source": [
        "# KNN K-Fold Cross-Validation\n",
        "\n"
      ]
    },
    {
      "cell_type": "code",
      "metadata": {
        "colab": {
          "base_uri": "https://localhost:8080/"
        },
        "id": "nsEiu80miB7C",
        "outputId": "42a6d877-2029-4b60-ef73-781317121a68"
      },
      "source": [
        "for k in [1, 3, 5, 7, 9]:\n",
        "  knn = KNeighborsClassifier(n_neighbors=k)\n",
        "  cv_scores = cross_val_score(knn, X, y, cv=5)\n",
        "  print('Usando K = {}, acurácia média de: {}%'.format(k, np.mean(cv_scores)*100))\n"
      ],
      "execution_count": 4,
      "outputs": [
        {
          "output_type": "stream",
          "name": "stdout",
          "text": [
            "Usando K = 1, acurácia média de: 96.0%\nUsando K = 3, acurácia média de: 96.66666666666669%\nUsando K = 5, acurácia média de: 97.33333333333334%\nUsando K = 7, acurácia média de: 98.00000000000001%\nUsando K = 9, acurácia média de: 97.33333333333334%\n"
          ]
        }
      ]
    },
    {
      "cell_type": "markdown",
      "metadata": {
        "id": "iArC9zbSlAW2"
      },
      "source": [
        "# KNN F-Measure"
      ]
    },
    {
      "cell_type": "code",
      "metadata": {
        "colab": {
          "base_uri": "https://localhost:8080/"
        },
        "id": "1z2SdoPplGm6",
        "outputId": "51fb393c-1089-40b0-b8a1-534e2f047053"
      },
      "source": [
        "X_train, X_test, y_train, y_test = train_test_split(X, y, test_size=0.20)\n",
        "\n",
        "scaler = StandardScaler()\n",
        "scaler.fit(X_train)\n",
        "\n",
        "X_train = scaler.transform(X_train)\n",
        "X_test = scaler.transform(X_test)\n",
        "\n",
        "for k in [1, 3, 5, 7, 9]:\n",
        "  knn = KNeighborsClassifier(n_neighbors=k)\n",
        "  knn.fit(X_train, y_train)\n",
        "  y_pred = knn.predict(X_test)\n",
        "  \n",
        "  print('Utilizando K = {}'.format(k))\n",
        "  print('Matriz de confusão: ')\n",
        "  print(confusion_matrix(y_test, y_pred))\n",
        "  print(classification_report(y_test, y_pred))\n",
        "\n"
      ],
      "execution_count": 10,
      "outputs": [
        {
          "output_type": "stream",
          "name": "stdout",
          "text": [
            "Utilizando K = 1\nMatriz de confusão: \n[[ 5  0  0]\n [ 0  6  1]\n [ 0  1 17]]\n                 precision    recall  f1-score   support\n\n    Iris-setosa       1.00      1.00      1.00         5\nIris-versicolor       0.86      0.86      0.86         7\n Iris-virginica       0.94      0.94      0.94        18\n\n       accuracy                           0.93        30\n      macro avg       0.93      0.93      0.93        30\n   weighted avg       0.93      0.93      0.93        30\n\nUtilizando K = 3\nMatriz de confusão: \n[[ 5  0  0]\n [ 0  6  1]\n [ 0  1 17]]\n                 precision    recall  f1-score   support\n\n    Iris-setosa       1.00      1.00      1.00         5\nIris-versicolor       0.86      0.86      0.86         7\n Iris-virginica       0.94      0.94      0.94        18\n\n       accuracy                           0.93        30\n      macro avg       0.93      0.93      0.93        30\n   weighted avg       0.93      0.93      0.93        30\n\nUtilizando K = 5\nMatriz de confusão: \n[[ 5  0  0]\n [ 0  6  1]\n [ 0  0 18]]\n                 precision    recall  f1-score   support\n\n    Iris-setosa       1.00      1.00      1.00         5\nIris-versicolor       1.00      0.86      0.92         7\n Iris-virginica       0.95      1.00      0.97        18\n\n       accuracy                           0.97        30\n      macro avg       0.98      0.95      0.97        30\n   weighted avg       0.97      0.97      0.97        30\n\nUtilizando K = 7\nMatriz de confusão: \n[[ 5  0  0]\n [ 0  7  0]\n [ 0  0 18]]\n                 precision    recall  f1-score   support\n\n    Iris-setosa       1.00      1.00      1.00         5\nIris-versicolor       1.00      1.00      1.00         7\n Iris-virginica       1.00      1.00      1.00        18\n\n       accuracy                           1.00        30\n      macro avg       1.00      1.00      1.00        30\n   weighted avg       1.00      1.00      1.00        30\n\nUtilizando K = 9\nMatriz de confusão: \n[[ 5  0  0]\n [ 0  6  1]\n [ 0  1 17]]\n                 precision    recall  f1-score   support\n\n    Iris-setosa       1.00      1.00      1.00         5\nIris-versicolor       0.86      0.86      0.86         7\n Iris-virginica       0.94      0.94      0.94        18\n\n       accuracy                           0.93        30\n      macro avg       0.93      0.93      0.93        30\n   weighted avg       0.93      0.93      0.93        30\n\n"
          ]
        }
      ]
    },
    {
      "cell_type": "code",
      "execution_count": null,
      "metadata": {},
      "outputs": [],
      "source": []
    }
  ]
}